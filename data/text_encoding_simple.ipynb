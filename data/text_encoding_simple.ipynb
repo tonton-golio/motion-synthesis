{
 "cells": [
  {
   "cell_type": "code",
   "execution_count": 58,
   "metadata": {},
   "outputs": [
    {
     "name": "stdout",
     "output_type": "stream",
     "text": [
      "Longest string: 897\n"
     ]
    },
    {
     "data": {
      "image/png": "[encoded data removed]",
      "text/plain": [
       "<Figure size 640x480 with 1 Axes>"
      ]
     },
     "metadata": {},
     "output_type": "display_data"
    }
   ],
   "source": [
    "from glob import glob\n",
    "import numpy as np\n",
    "import matplotlib.pyplot as plt\n",
    "\n",
    "def load_all_texts(path = 'HumanML3D/HumanML3D/texts'):\n",
    "\n",
    "    files = glob(f'{path}/*.txt')\n",
    "    longest_string = 0\n",
    "    lengths = []\n",
    "    data = {}\n",
    "    for file in files:\n",
    "        name = file.split('/')[-1].split('.')[0]\n",
    "        with open(file, 'r') as f:\n",
    "            texts = f.read().split('\\n')\n",
    "            # remove '' from list\n",
    "            texts = list(filter(None, texts))\n",
    "\n",
    "            # cut at first #\n",
    "            texts = [text.split('#')[0] for text in texts]\n",
    "\n",
    "            # longest string\n",
    "            longest_string = max(longest_string, max([len(text) for text in texts]))\n",
    "\n",
    "\n",
    "            # lengths\n",
    "            for text in texts:\n",
    "                lengths.append(len(text))\n",
    "\n",
    "            data[name] = texts  \n",
    "\n",
    "    print(f'Longest string: {longest_string}')\n",
    "\n",
    "    plt.hist(lengths, bins=100)\n",
    "    plt.xscale('log')\n",
    "    plt.yscale('log')\n",
    "    plt.axvline(300, color='r', linestyle='--')\n",
    "\n",
    "    return data\n",
    "\n",
    "data = load_all_texts()"
   ]
  },
  {
   "cell_type": "code",
   "execution_count": 49,
   "metadata": {},
   "outputs": [
    {
     "name": "stdout",
     "output_type": "stream",
     "text": [
      "Number of unique words: 10054\n"
     ]
    }
   ],
   "source": [
    "\n",
    "all_words = []\n",
    "for key in data:\n",
    "    # print(key)\n",
    "    for text in data[key]:\n",
    "        all_words += text.split(' ')\n",
    "\n",
    "\n",
    "unique_words = set(all_words)\n",
    "vocab_size = len(unique_words)  \n",
    "print('Number of unique words:', vocab_size)\n",
    "\n",
    "# make encoding\n",
    "word2idx = {word: idx for idx, word in enumerate(unique_words)}\n",
    "idx2word = {idx: word for word, idx in word2idx.items()}\n",
    "\n"
   ]
  },
  {
   "cell_type": "code",
   "execution_count": 54,
   "metadata": {},
   "outputs": [
    {
     "name": "stderr",
     "output_type": "stream",
     "text": [
      "100%|██████████| 29232/29232 [00:03<00:00, 9257.47it/s]\n"
     ]
    }
   ],
   "source": [
    "import numpy as np\n",
    "from tqdm import tqdm\n",
    "# save encodings\n",
    "path = 'HumanML3D/HumanML3D/texts_enc/simple/'\n",
    "max_length = 250\n",
    "with open(f'{path}max_length.txt', 'w') as f:\n",
    "    f.write(str(max_length))\n",
    "with open(f'{path}vocab_size.txt', 'w') as f:\n",
    "    f.write(str(vocab_size))\n",
    "np.savez(f'{path}word2idx.npz', word2idx)\n",
    "np.savez(f'{path}idx2word.npz', idx2word)\n",
    "for key in tqdm(data):\n",
    "\n",
    "    full_path = f'{path}encodings/{key}.npy'\n",
    "    # print(full_path)\n",
    "    enc = []\n",
    "    for text in data[key][:3]:\n",
    "        enc.append([word2idx[word] for word in text.split(' ')])\n",
    "    if len(enc) != 3:\n",
    "        if len(enc) == 2:\n",
    "            enc.append(enc[0])\n",
    "        if len(enc) == 1:\n",
    "            enc.append(enc[0])\n",
    "            enc.append(enc[0])\n",
    "\n",
    "    if len(enc) != 3:\n",
    "        print('ERROR')\n",
    "        break\n",
    "    \n",
    "    # pad up to 300\n",
    "    enc = [np.pad(e, (0, max_length-len(e)), 'constant') for e in enc]\n",
    "    enc = np.array(enc)\n",
    "    np.save(full_path, enc)"
   ]
  },
  {
   "cell_type": "code",
   "execution_count": null,
   "metadata": {},
   "outputs": [],
   "source": []
  }
 ],
 "metadata": {
  "kernelspec": {
   "display_name": "t2mENV",
   "language": "python",
   "name": "python3"
  },
  "language_info": {
   "codemirror_mode": {
    "name": "ipython",
    "version": 3
   },
   "file_extension": ".py",
   "mimetype": "text/x-python",
   "name": "python",
   "nbconvert_exporter": "python",
   "pygments_lexer": "ipython3",
   "version": "3.9.18"
  }
 },
 "nbformat": 4,
 "nbformat_minor": 2
}
